{
 "cells": [
  {
   "cell_type": "code",
   "execution_count": 5,
   "metadata": {},
   "outputs": [],
   "source": [
    "from ltp import LTP"
   ]
  },
  {
   "cell_type": "code",
   "execution_count": 25,
   "metadata": {},
   "outputs": [],
   "source": [
    "text = '1999年2月9日，本年度巴拉巴拉，一九九年二月十三日巴巴拉拉拉拉啊了北京大学'"
   ]
  },
  {
   "cell_type": "code",
   "execution_count": 26,
   "metadata": {},
   "outputs": [
    {
     "name": "stdout",
     "output_type": "stream",
     "text": [
      "LTPOutput(cws=[['1999年', '2月', '9日', '，', '本', '年度', '巴拉巴拉', '，', '一九九年', '二月', '十三日', '巴巴拉拉拉拉', '啊', '了', '北京大学']], pos=None, ner=[[('Ns', '巴拉巴拉'), ('Ns', '巴巴拉拉拉拉'), ('Ni', '北京大学')]], srl=None, dep=None, sdp=None, sdpg=None)\n"
     ]
    }
   ],
   "source": [
    "ltp = LTP() \n",
    "result = ltp.pipeline([text], tasks = [\"cws\",\"ner\"])\n",
    "print(result)"
   ]
  },
  {
   "cell_type": "code",
   "execution_count": 29,
   "metadata": {},
   "outputs": [],
   "source": [
    "a= result.ner\n",
    "newlist = sum(a,[])"
   ]
  },
  {
   "cell_type": "code",
   "execution_count": 30,
   "metadata": {},
   "outputs": [
    {
     "name": "stdout",
     "output_type": "stream",
     "text": [
      "巴拉巴拉\n",
      "巴巴拉拉拉拉\n",
      "北京大学\n"
     ]
    }
   ],
   "source": [
    "for i in newlist:\n",
    "    # print(i)\n",
    "    _, ent = i\n",
    "    print(ent)"
   ]
  },
  {
   "cell_type": "code",
   "execution_count": 16,
   "metadata": {},
   "outputs": [
    {
     "data": {
      "text/plain": [
       "[('Ni', '山东能源新汶矿业集团'), ('Ni', '责任'), ('Ni', '公司'), ('Ni', '980')]"
      ]
     },
     "execution_count": 16,
     "metadata": {},
     "output_type": "execute_result"
    }
   ],
   "source": [
    "newlist"
   ]
  },
  {
   "cell_type": "code",
   "execution_count": 15,
   "metadata": {},
   "outputs": [],
   "source": [
    "newlist = sum(a,[])"
   ]
  },
  {
   "cell_type": "code",
   "execution_count": null,
   "metadata": {},
   "outputs": [],
   "source": []
  }
 ],
 "metadata": {
  "kernelspec": {
   "display_name": "base",
   "language": "python",
   "name": "python3"
  },
  "language_info": {
   "codemirror_mode": {
    "name": "ipython",
    "version": 3
   },
   "file_extension": ".py",
   "mimetype": "text/x-python",
   "name": "python",
   "nbconvert_exporter": "python",
   "pygments_lexer": "ipython3",
   "version": "3.8.8"
  },
  "orig_nbformat": 4
 },
 "nbformat": 4,
 "nbformat_minor": 2
}
